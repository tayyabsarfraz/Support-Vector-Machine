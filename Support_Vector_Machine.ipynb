{
 "cells": [
  {
   "cell_type": "markdown",
   "id": "7bd2914b",
   "metadata": {},
   "source": [
    "<h1 align=\"center\">Support Vector Machines with Python and Scikit-Learn</h1>\n",
    "\n",
    "In this project, I build a Support Vector Machines classifier to classify a Pulsar star. I have used the Predicting a Pulsar Star dataset for this project. I have downloaded this dataset from the Kaggle website.\n",
    "\n",
    "#### Table of Contents\n",
    "\n",
    "- Introduction to Support Vector Machines\n",
    "- Support Vector Machines intuition\n",
    "- Kernel trick\n",
    "- The problem statement\n",
    "- Dataset description\n",
    "- Import libraries\n",
    "- Import dataset\n",
    "- Exploratory data analysis\n",
    "- Declare feature vector and target variable\n",
    "- Split data into separate training and test set\n",
    "- Feature scaling\n",
    "- Run SVM with default hyperparameters\n",
    "- Run SVM with linear kernel\n",
    "- Run SVM with polynomial kernel\n",
    "- Run SVM with sigmoid kernel\n",
    "- Confusion matrix\n",
    "- Classification metrices\n",
    "- ROC - AUC\n",
    "- Stratified k-fold Cross Validation with shuffle split\n",
    "- Hyperparameter optimization using GridSearch CV\n",
    "- Results and conclusion"
   ]
  },
  {
   "cell_type": "markdown",
   "id": "6186cf64",
   "metadata": {},
   "source": [
    "# 1. Introduction to Support Vector Machines\n",
    "\n",
    "**Support Vector Machines** (SVMs in short) are machine learning algorithms that are used for classification and regression purposes. SVMs are one of the powerful machine learning algorithms for classification, regression and outlier detection purposes. An SVM classifier builds a model that assigns new data points to one of the given categories. Thus, it can be viewed as a non-probabilistic binary linear classifier.\n",
    "\n",
    "The original SVM algorithm was developed by Vladimir N Vapnik and Alexey Ya. Chervonenkis in 1963. At that time, the algorithm was in early stages. The only possibility is to draw hyperplanes for linear classifier. In 1992, Bernhard E. Boser, Isabelle M Guyon and Vladimir N Vapnik suggested a way to create non-linear classifiers by applying the kernel trick to maximum-margin hyperplanes. The current standard was proposed by Corinna Cortes and Vapnik in 1993 and published in 1995.\n",
    "\n",
    "SVMs can be used for linear classification purposes. In addition to performing linear classification, SVMs can efficiently perform a non-linear classification using the **kernel trick**. It enable us to implicitly map the inputs into high dimensional feature spaces."
   ]
  },
  {
   "cell_type": "markdown",
   "id": "561c8101",
   "metadata": {},
   "source": [
    "# 2. Support Vector Machines intuition\n",
    "\n",
    "Now, we should be familiar with some SVM terminology.\n",
    "\n",
    "**Hyperplane:**\n",
    "\n",
    "A hyperplane is a decision boundary which separates between given set of data points having different class labels. The SVM classifier separates data points using a hyperplane with the maximum amount of margin. This hyperplane is known as the `maximum margin hyperplane` and the linear classifier it defines is known as the `maximum margin classifier`.\n",
    "\n",
    "**Support Vectors:**\n",
    "\n",
    "Support vectors are the sample data points, which are closest to the hyperplane. These data points will define the separating line or hyperplane better by calculating margins.\n",
    "\n",
    "**Margin:**\n",
    "\n",
    "A margin is a separation gap between the two lines on the closest data points. It is calculated as the perpendicular distance from the line to support vectors or closest data points. In SVMs, we try to maximize this separation gap so that we get maximum margin.\n",
    "\n",
    "**SVM Under the hood**\n",
    "\n",
    "In SVMs, our main objective is to select a hyperplane with the maximum possible margin between support vectors in the given dataset. SVM searches for the maximum margin hyperplane in the following 2 step process \n",
    "  - Generate hyperplanes which segregates the classes in the best possible way. There are many hyperplanes that might classify the data. We should look for the best hyperplane that represents the largest separation, or margin, between the two classes.\n",
    "\n",
    "  - So, we choose the hyperplane so that distance from it to the support vectors on each side is maximized. If such a hyperplane exists, it is known as the `maximum margin hyperplane` and the linear classifier it defines is known as a `maximum margin classifier`.\n",
    " \n",
    "**Problem with dispersed datasets**\n",
    "\n",
    "Sometimes, the sample data points are so dispersed that it is not possible to separate them using a linear hyperplane. In such a situation, SVMs uses a `kernel trick` to transform the input space to a higher dimensional space as shown in the diagram below. It uses a mapping function to transform the 2-D input space into the 3-D input space. Now, we can easily segregate the data points using linear separation.\n"
   ]
  },
  {
   "cell_type": "markdown",
   "id": "b33bb187",
   "metadata": {},
   "source": [
    "# 3. Kernel trick\n",
    "\n",
    "In practice, SVM algorithm is implemented using a `kernel`. It uses a technique called the `kernel trick`. In simple words, a kernel is just a function that maps the data to a higher dimension where data is separable. A kernel transforms a low-dimensional input data space into a higher dimensional space. So, it converts non-linear separable problems to linear separable problems by adding more dimensions to it. Thus, the kernel trick helps us to build a more accurate classifier. Hence, it is useful in non-linear separation problems.\n",
    "\n",
    "In the context of SVMs, there are 4 popular kernels – `Linear kernel`, `Polynomial kernel` and `Radial Basis Function (RBF)` kernel (also called Gaussian kernel) and `Sigmoid kernel`.\n",
    "\n",
    "# 4. The problem statement\n",
    "In this project, I try to classify a pulsar star as legitimate or spurious pulsar star. The legitimate pulsar stars form a minority positive class and spurious pulsar stars form the majority negative class. I implement Support Vector Machines (SVMs) classification algorithm with Python and Scikit-Learn to solve this problem.\n",
    "\n",
    "To answer the question, I build a SVM classifier to classify the `pulsar star` as legitimate or spurious. I have used the Predicting a <a href=\"https://www.kaggle.com/datasets/chandrashekhargt/pulsar-star\">Pulsar_Star_Dataset</a>  downloaded from the Kaggle website for this project.\n",
    "\n",
    "# 5. Dataset description\n",
    "\n",
    "Pulsars are a rare type of Neutron star that produce radio emission detectable here on Earth. They are of considerable scientific interest as probes of space-time, the inter-stellar medium, and states of matter. Classification algorithms in particular are being adopted, which treat the data sets as binary classification problems. Here the legitimate pulsar examples form minority positive class and spurious examples form the majority negative class.\n",
    "\n",
    "The data set shared here contains 16,259 spurious examples caused by RFI/noise, and 1,639 real pulsar examples. Each row lists the variables first, and the class label is the final entry. The class labels used are 0 (negative) and 1 (positive).\n",
    "\n",
    "**Attribute Information:** \n",
    "\n",
    "Each candidate is described by 8 continuous variables, and a single class variable. The first four are simple statistics obtained from the integrated pulse profile. The remaining four variables are similarly obtained from the DM-SNR curve . These are summarised below:\n",
    "\n",
    " - Mean of the integrated profile.\n",
    "\n",
    " - Standard deviation of the integrated profile.\n",
    "\n",
    " - Excess kurtosis of the integrated profile.\n",
    "\n",
    " - Skewness of the integrated profile.\n",
    "\n",
    " - Mean of the DM-SNR curve.\n",
    "\n",
    " - Standard deviation of the DM-SNR curve.\n",
    "\n",
    " - Excess kurtosis of the DM-SNR curve.\n",
    "\n",
    " - Skewness of the DM-SNR curve.\n",
    "\n",
    " - Class"
   ]
  },
  {
   "cell_type": "markdown",
   "id": "829b5d9a",
   "metadata": {},
   "source": [
    "# 6. Import libraries\n",
    "\n",
    "I will start off by importing the required Python libraries."
   ]
  },
  {
   "cell_type": "code",
   "execution_count": null,
   "id": "39a8b39e",
   "metadata": {},
   "outputs": [],
   "source": [
    "# libraries\n"
   ]
  },
  {
   "cell_type": "markdown",
   "id": "e685adc7",
   "metadata": {},
   "source": [
    "# 7.Import dataset"
   ]
  },
  {
   "cell_type": "code",
   "execution_count": null,
   "id": "ce0dc693",
   "metadata": {},
   "outputs": [],
   "source": [
    "# Dataset\n"
   ]
  },
  {
   "cell_type": "markdown",
   "id": "b892bfda",
   "metadata": {},
   "source": [
    "# 8. Exploratory data analysis\n",
    "\n",
    "Now, I will explore the data to gain insights about the data."
   ]
  },
  {
   "cell_type": "code",
   "execution_count": null,
   "id": "e2060988",
   "metadata": {},
   "outputs": [],
   "source": []
  },
  {
   "cell_type": "markdown",
   "id": "89db5d13",
   "metadata": {},
   "source": [
    "# 9. Declare feature vector and target variable"
   ]
  },
  {
   "cell_type": "code",
   "execution_count": null,
   "id": "fb15ca02",
   "metadata": {},
   "outputs": [],
   "source": []
  },
  {
   "cell_type": "markdown",
   "id": "6e631f07",
   "metadata": {},
   "source": [
    "# 10. Split data into separate training and test set"
   ]
  },
  {
   "cell_type": "code",
   "execution_count": null,
   "id": "190f9b15",
   "metadata": {},
   "outputs": [],
   "source": []
  },
  {
   "cell_type": "markdown",
   "id": "429ecc3b",
   "metadata": {},
   "source": [
    "# 11. Feature Scaling"
   ]
  },
  {
   "cell_type": "code",
   "execution_count": null,
   "id": "d89f8a06",
   "metadata": {},
   "outputs": [],
   "source": []
  },
  {
   "cell_type": "markdown",
   "id": "979d428d",
   "metadata": {},
   "source": [
    "# 12. Run SVM with default hyperparameters\n",
    "\n",
    "Default hyperparameter means C=`1.0`, kernel=`rbf` and gamma=`auto` among other parameters."
   ]
  },
  {
   "cell_type": "code",
   "execution_count": null,
   "id": "59f0bc27",
   "metadata": {},
   "outputs": [],
   "source": []
  },
  {
   "cell_type": "markdown",
   "id": "c506881b",
   "metadata": {},
   "source": [
    "# 13. Run SVM with linear kernel"
   ]
  },
  {
   "cell_type": "code",
   "execution_count": null,
   "id": "840c9d41",
   "metadata": {},
   "outputs": [],
   "source": []
  },
  {
   "cell_type": "markdown",
   "id": "88d4bebe",
   "metadata": {},
   "source": [
    "# 14. Run SVM with polynomial kernel"
   ]
  },
  {
   "cell_type": "code",
   "execution_count": null,
   "id": "2d917091",
   "metadata": {},
   "outputs": [],
   "source": []
  },
  {
   "cell_type": "markdown",
   "id": "0248ed9d",
   "metadata": {},
   "source": [
    "**Comments**\n",
    "\n",
    "We get maximum accuracy with `rbf` and `linear kernel` with `C=100.0`. and the accuracy is `0.9832`. Based on the above analysis we can conclude that our classification model accuracy is very good. Our model is doing a very good job in terms of predicting the class labels.\n",
    "\n",
    "But, this is not true. Here, we have an imbalanced dataset. The problem is that accuracy is an inadequate measure for quantifying predictive performance in the imbalanced dataset problem.\n",
    "\n",
    "So, we must explore alternative metrices that provide better guidance in selecting models. In particular, we would like to know the underlying distribution of values and the type of errors our classifer is making.\n",
    "\n",
    "One such metric to analyze the model performance in imbalanced classes problem is `Confusion matrix`."
   ]
  },
  {
   "cell_type": "markdown",
   "id": "e37f7bfd",
   "metadata": {},
   "source": [
    "# 16. Confusion matrix\n",
    "\n",
    "A confusion matrix is a tool for summarizing the performance of a classification algorithm. A confusion matrix will give us a clear picture of classification model performance and the types of errors produced by the model. It gives us a summary of correct and incorrect predictions broken down by each category. The summary is represented in a tabular form.\n",
    "\n",
    "Four types of outcomes are possible while evaluating a classification model performance. These four outcomes are described below:-\n",
    "\n",
    "**True Positives (TP)** – True Positives occur when we predict an observation belongs to a certain class and the observation actually belongs to that class.\n",
    "\n",
    "**True Negatives (TN)** – True Negatives occur when we predict an observation does not belong to a certain class and the observation actually does not belong to that class.\n",
    "\n",
    "**False Positives (FP)** – False Positives occur when we predict an observation belongs to a certain class but the observation actually does not belong to that class. This type of error is called Type I error.\n",
    "\n",
    "**False Negatives (FN)** – False Negatives occur when we predict an observation does not belong to a certain class but the observation actually belongs to that class. This is a very serious error and it is called Type II error.\n",
    "\n",
    "These four outcomes are summarized in a confusion matrix given below."
   ]
  },
  {
   "cell_type": "code",
   "execution_count": null,
   "id": "651d8ae1",
   "metadata": {},
   "outputs": [],
   "source": []
  },
  {
   "cell_type": "markdown",
   "id": "af792a8e",
   "metadata": {},
   "source": [
    "# 17. Classification metrices\n",
    "\n",
    "**Classification report** is another way to evaluate the classification model performance. It displays the **precision**, **recall**, **f1** and **support** scores for the model. I have described these terms in later."
   ]
  },
  {
   "cell_type": "code",
   "execution_count": null,
   "id": "fc3671f0",
   "metadata": {},
   "outputs": [],
   "source": []
  },
  {
   "cell_type": "markdown",
   "id": "4d05ea4e",
   "metadata": {},
   "source": [
    "# 18. ROC - AUC\n",
    "\n",
    "Another tool to measure the classification model performance visually is `ROC Curve`. ROC Curve stands for **Receiver Operating Characteristic Curve**. An ROC Curve is a plot which shows the performance of a classification model at various classification threshold levels.\n",
    "\n",
    "The ROC Curve plots the `True Positive Rate (TPR)` against the `False Positive Rate (FPR)` at various threshold levels.\n",
    "\n",
    "True Positive Rate (TPR) is also called Recall. It is defined as the ratio of `TP to (TP + FN)`.\n",
    "\n",
    "False Positive Rate (FPR) is defined as the ratio of `FP to (FP + TN)`.\n",
    "\n",
    "In the ROC Curve, we will focus on the TPR (True Positive Rate) and FPR (False Positive Rate) of a single point. This will give us the general performance of the ROC curve which consists of the TPR and FPR at various threshold levels. So, an ROC Curve plots TPR vs FPR at different classification threshold levels. If we lower the threshold levels, it may result in more items being classified as positve. It will increase both True Positives (TP) and False Positives (FP)."
   ]
  },
  {
   "cell_type": "code",
   "execution_count": null,
   "id": "838bd185",
   "metadata": {},
   "outputs": [],
   "source": []
  },
  {
   "cell_type": "markdown",
   "id": "b1a62c5c",
   "metadata": {},
   "source": [
    "#### ROC AUC\n",
    "\n",
    "ROC AUC stands for **Receiver Operating Characteristic - Area Under Curve**. It is a technique to compare classifier performance. In this technique, we measure the area under the curve (AUC). A perfect classifier will have a ROC AUC equal to 1, whereas a purely random classifier will have a ROC AUC equal to 0.5.\n",
    "\n",
    "So, ROC AUC is the percentage of the ROC plot that is underneath the curve."
   ]
  },
  {
   "cell_type": "code",
   "execution_count": null,
   "id": "dcd0a9f8",
   "metadata": {},
   "outputs": [],
   "source": []
  },
  {
   "cell_type": "markdown",
   "id": "4e3e5bae",
   "metadata": {},
   "source": [
    "# 19. Stratified k-fold Cross Validation with shuffle split\n",
    "\n",
    "k-fold cross-validation is a very useful technique to evaluate model performance. But, it fails here because we have a imbalnced dataset. So, in the case of imbalanced dataset, I will use another technique to evaluate model performance. It is called stratified k-fold cross-validation.\n",
    "\n",
    "In stratified k-fold cross-validation, we split the data such that the proportions between classes are the same in each fold as they are in the whole dataset.\n",
    "\n",
    "Moreover, I will shuffle the data before splitting because shuffling yields much better result.\n",
    "\n",
    "**Stratified k-Fold Cross Validation with shuffle split with linear kernel**"
   ]
  },
  {
   "cell_type": "code",
   "execution_count": null,
   "id": "0b31849e",
   "metadata": {},
   "outputs": [],
   "source": []
  },
  {
   "cell_type": "markdown",
   "id": "27a1ca89",
   "metadata": {},
   "source": [
    "# 20. Hyperparameter Optimization using GridSearch CV"
   ]
  },
  {
   "cell_type": "code",
   "execution_count": null,
   "id": "18a1f967",
   "metadata": {},
   "outputs": [],
   "source": []
  }
 ],
 "metadata": {
  "kernelspec": {
   "display_name": "Python 3 (ipykernel)",
   "language": "python",
   "name": "python3"
  },
  "language_info": {
   "codemirror_mode": {
    "name": "ipython",
    "version": 3
   },
   "file_extension": ".py",
   "mimetype": "text/x-python",
   "name": "python",
   "nbconvert_exporter": "python",
   "pygments_lexer": "ipython3",
   "version": "3.8.10"
  }
 },
 "nbformat": 4,
 "nbformat_minor": 5
}
